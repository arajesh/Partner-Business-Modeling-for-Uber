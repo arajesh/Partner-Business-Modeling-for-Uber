{
 "cells": [
  {
   "cell_type": "markdown",
   "id": "1c7d4686",
   "metadata": {},
   "source": [
    "***Scenario 1:***\n",
    "\n",
    "It is going to be a huge Saturday and there will need to be many more cars on the road than last week. In order to get drivers to go online, we're assessing the following two bonus options in terms of cost:\n",
    "\n",
    "**Option 1:** \n",
    "<br>\n",
    "\\\\$50 for each driver that is online at least 8 hours, accepts 90\\% of requests, completes 10 trips, and has a rating of 4.7 or better during the time frame.\n",
    "\n",
    "**Option 2:**\n",
    "<br>\n",
    "\\\\$4/trip for all drivers who complete 12 trips, and have a 4.7 or better rating.\n",
    "Using the dataset provided and given Scenario 1, provide answers to the questions below:\n",
    "\n",
    "1. How much would the total bonus payout be with Option 1?\n",
    "2. How much would the total bonus payout be with Option 2?\n",
    "3. How many drivers would qualify for a bonus under Option 1 but not under Option 2?\n",
    "4. What percentages of drivers online completed less than 10 trips, had an acceptance rate of less than 90%, and had a rating of 4.7 or higher?"
   ]
  },
  {
   "cell_type": "code",
   "execution_count": 118,
   "id": "2fee859d",
   "metadata": {},
   "outputs": [],
   "source": [
    "import pandas as pd"
   ]
  },
  {
   "cell_type": "code",
   "execution_count": 119,
   "id": "0d20d460",
   "metadata": {},
   "outputs": [],
   "source": [
    "df = pd.read_csv('dataset.csv')"
   ]
  },
  {
   "cell_type": "code",
   "execution_count": 120,
   "id": "14a6f6c8",
   "metadata": {},
   "outputs": [
    {
     "data": {
      "text/html": [
       "<div>\n",
       "<style scoped>\n",
       "    .dataframe tbody tr th:only-of-type {\n",
       "        vertical-align: middle;\n",
       "    }\n",
       "\n",
       "    .dataframe tbody tr th {\n",
       "        vertical-align: top;\n",
       "    }\n",
       "\n",
       "    .dataframe thead th {\n",
       "        text-align: right;\n",
       "    }\n",
       "</style>\n",
       "<table border=\"1\" class=\"dataframe\">\n",
       "  <thead>\n",
       "    <tr style=\"text-align: right;\">\n",
       "      <th></th>\n",
       "      <th>Name</th>\n",
       "      <th>Trips Completed</th>\n",
       "      <th>Accept Rate</th>\n",
       "      <th>Supply Hours</th>\n",
       "      <th>Rating</th>\n",
       "    </tr>\n",
       "  </thead>\n",
       "  <tbody>\n",
       "    <tr>\n",
       "      <th>0</th>\n",
       "      <td>Abdul</td>\n",
       "      <td>1</td>\n",
       "      <td>100%</td>\n",
       "      <td>3</td>\n",
       "      <td>4.8</td>\n",
       "    </tr>\n",
       "    <tr>\n",
       "      <th>1</th>\n",
       "      <td>Abraham</td>\n",
       "      <td>12</td>\n",
       "      <td>83%</td>\n",
       "      <td>5</td>\n",
       "      <td>4.7</td>\n",
       "    </tr>\n",
       "    <tr>\n",
       "      <th>2</th>\n",
       "      <td>Adelina</td>\n",
       "      <td>1</td>\n",
       "      <td>100%</td>\n",
       "      <td>2</td>\n",
       "      <td>4.7</td>\n",
       "    </tr>\n",
       "    <tr>\n",
       "      <th>3</th>\n",
       "      <td>Akilah</td>\n",
       "      <td>1</td>\n",
       "      <td>100%</td>\n",
       "      <td>2</td>\n",
       "      <td>4.9</td>\n",
       "    </tr>\n",
       "    <tr>\n",
       "      <th>4</th>\n",
       "      <td>Alec</td>\n",
       "      <td>21</td>\n",
       "      <td>76%</td>\n",
       "      <td>11</td>\n",
       "      <td>5.0</td>\n",
       "    </tr>\n",
       "  </tbody>\n",
       "</table>\n",
       "</div>"
      ],
      "text/plain": [
       "      Name  Trips Completed Accept Rate  Supply Hours  Rating\n",
       "0    Abdul                1        100%             3     4.8\n",
       "1  Abraham               12         83%             5     4.7\n",
       "2  Adelina                1        100%             2     4.7\n",
       "3   Akilah                1        100%             2     4.9\n",
       "4     Alec               21         76%            11     5.0"
      ]
     },
     "execution_count": 120,
     "metadata": {},
     "output_type": "execute_result"
    }
   ],
   "source": [
    "df.head()"
   ]
  },
  {
   "cell_type": "code",
   "execution_count": 121,
   "id": "32de95ec",
   "metadata": {},
   "outputs": [
    {
     "name": "stdout",
     "output_type": "stream",
     "text": [
      "<class 'pandas.core.frame.DataFrame'>\n",
      "RangeIndex: 119 entries, 0 to 118\n",
      "Data columns (total 5 columns):\n",
      " #   Column           Non-Null Count  Dtype  \n",
      "---  ------           --------------  -----  \n",
      " 0   Name             119 non-null    object \n",
      " 1   Trips Completed  119 non-null    int64  \n",
      " 2   Accept Rate      119 non-null    object \n",
      " 3   Supply Hours     119 non-null    int64  \n",
      " 4   Rating           119 non-null    float64\n",
      "dtypes: float64(1), int64(2), object(2)\n",
      "memory usage: 4.8+ KB\n"
     ]
    }
   ],
   "source": [
    "df.info()"
   ]
  },
  {
   "cell_type": "code",
   "execution_count": 122,
   "id": "029db357",
   "metadata": {},
   "outputs": [
    {
     "data": {
      "text/html": [
       "<div>\n",
       "<style scoped>\n",
       "    .dataframe tbody tr th:only-of-type {\n",
       "        vertical-align: middle;\n",
       "    }\n",
       "\n",
       "    .dataframe tbody tr th {\n",
       "        vertical-align: top;\n",
       "    }\n",
       "\n",
       "    .dataframe thead th {\n",
       "        text-align: right;\n",
       "    }\n",
       "</style>\n",
       "<table border=\"1\" class=\"dataframe\">\n",
       "  <thead>\n",
       "    <tr style=\"text-align: right;\">\n",
       "      <th></th>\n",
       "      <th>Name</th>\n",
       "      <th>Trips Completed</th>\n",
       "      <th>Accept Rate</th>\n",
       "      <th>Supply Hours</th>\n",
       "      <th>Rating</th>\n",
       "    </tr>\n",
       "  </thead>\n",
       "  <tbody>\n",
       "    <tr>\n",
       "      <th>0</th>\n",
       "      <td>Abdul</td>\n",
       "      <td>1</td>\n",
       "      <td>100.0</td>\n",
       "      <td>3</td>\n",
       "      <td>4.8</td>\n",
       "    </tr>\n",
       "    <tr>\n",
       "      <th>1</th>\n",
       "      <td>Abraham</td>\n",
       "      <td>12</td>\n",
       "      <td>83.0</td>\n",
       "      <td>5</td>\n",
       "      <td>4.7</td>\n",
       "    </tr>\n",
       "    <tr>\n",
       "      <th>2</th>\n",
       "      <td>Adelina</td>\n",
       "      <td>1</td>\n",
       "      <td>100.0</td>\n",
       "      <td>2</td>\n",
       "      <td>4.7</td>\n",
       "    </tr>\n",
       "    <tr>\n",
       "      <th>3</th>\n",
       "      <td>Akilah</td>\n",
       "      <td>1</td>\n",
       "      <td>100.0</td>\n",
       "      <td>2</td>\n",
       "      <td>4.9</td>\n",
       "    </tr>\n",
       "    <tr>\n",
       "      <th>4</th>\n",
       "      <td>Alec</td>\n",
       "      <td>21</td>\n",
       "      <td>76.0</td>\n",
       "      <td>11</td>\n",
       "      <td>5.0</td>\n",
       "    </tr>\n",
       "    <tr>\n",
       "      <th>...</th>\n",
       "      <td>...</td>\n",
       "      <td>...</td>\n",
       "      <td>...</td>\n",
       "      <td>...</td>\n",
       "      <td>...</td>\n",
       "    </tr>\n",
       "    <tr>\n",
       "      <th>114</th>\n",
       "      <td>Virgen</td>\n",
       "      <td>4</td>\n",
       "      <td>100.0</td>\n",
       "      <td>6</td>\n",
       "      <td>4.5</td>\n",
       "    </tr>\n",
       "    <tr>\n",
       "      <th>115</th>\n",
       "      <td>Yang</td>\n",
       "      <td>7</td>\n",
       "      <td>71.0</td>\n",
       "      <td>2</td>\n",
       "      <td>4.5</td>\n",
       "    </tr>\n",
       "    <tr>\n",
       "      <th>116</th>\n",
       "      <td>Yessenia</td>\n",
       "      <td>8</td>\n",
       "      <td>88.0</td>\n",
       "      <td>5</td>\n",
       "      <td>5.0</td>\n",
       "    </tr>\n",
       "    <tr>\n",
       "      <th>117</th>\n",
       "      <td>Yukiko</td>\n",
       "      <td>9</td>\n",
       "      <td>78.0</td>\n",
       "      <td>6</td>\n",
       "      <td>4.5</td>\n",
       "    </tr>\n",
       "    <tr>\n",
       "      <th>118</th>\n",
       "      <td>Zoe</td>\n",
       "      <td>21</td>\n",
       "      <td>86.0</td>\n",
       "      <td>9</td>\n",
       "      <td>4.9</td>\n",
       "    </tr>\n",
       "  </tbody>\n",
       "</table>\n",
       "<p>119 rows × 5 columns</p>\n",
       "</div>"
      ],
      "text/plain": [
       "         Name  Trips Completed  Accept Rate  Supply Hours  Rating\n",
       "0       Abdul                1        100.0             3     4.8\n",
       "1     Abraham               12         83.0             5     4.7\n",
       "2     Adelina                1        100.0             2     4.7\n",
       "3      Akilah                1        100.0             2     4.9\n",
       "4        Alec               21         76.0            11     5.0\n",
       "..        ...              ...          ...           ...     ...\n",
       "114    Virgen                4        100.0             6     4.5\n",
       "115      Yang                7         71.0             2     4.5\n",
       "116  Yessenia                8         88.0             5     5.0\n",
       "117    Yukiko                9         78.0             6     4.5\n",
       "118       Zoe               21         86.0             9     4.9\n",
       "\n",
       "[119 rows x 5 columns]"
      ]
     },
     "execution_count": 122,
     "metadata": {},
     "output_type": "execute_result"
    }
   ],
   "source": [
    "# convert accept rate to float from string to force conditions later\n",
    "df['Accept Rate'] = df['Accept Rate'].apply(lambda x: float(x[:-1]))\n",
    "df"
   ]
  },
  {
   "cell_type": "markdown",
   "id": "d5b663a1",
   "metadata": {},
   "source": [
    "***1. How much would the total bonus payout be with Option 1?***"
   ]
  },
  {
   "cell_type": "code",
   "execution_count": 123,
   "id": "0eed0c2c",
   "metadata": {},
   "outputs": [],
   "source": [
    "option1 = df[(df['Supply Hours'] >= 8) & \n",
    "          (df['Accept Rate'] >= 90) & \n",
    "          (df['Rating'] >= 4.7) & \n",
    "          (df['Trips Completed'] >= 10)]"
   ]
  },
  {
   "cell_type": "code",
   "execution_count": 124,
   "id": "fac56b90",
   "metadata": {},
   "outputs": [
    {
     "name": "stdout",
     "output_type": "stream",
     "text": [
      "Total Cost for Scenario 1 : $1050\n"
     ]
    }
   ],
   "source": [
    "option1_cost = 50 * len(option1)\n",
    "print('Total Cost for Scenario 1 : $' + str(option1_cost))"
   ]
  },
  {
   "cell_type": "markdown",
   "id": "fa464151",
   "metadata": {},
   "source": [
    "***2. How much would the total bonus payout be with Option 2?***"
   ]
  },
  {
   "cell_type": "code",
   "execution_count": 125,
   "id": "d6db94e4",
   "metadata": {},
   "outputs": [],
   "source": [
    "option2 = df[(df['Trips Completed'] >= 12) & (df['Rating'] >= 4.7)]"
   ]
  },
  {
   "cell_type": "code",
   "execution_count": 126,
   "id": "754840a8",
   "metadata": {},
   "outputs": [
    {
     "data": {
      "text/html": [
       "<div>\n",
       "<style scoped>\n",
       "    .dataframe tbody tr th:only-of-type {\n",
       "        vertical-align: middle;\n",
       "    }\n",
       "\n",
       "    .dataframe tbody tr th {\n",
       "        vertical-align: top;\n",
       "    }\n",
       "\n",
       "    .dataframe thead th {\n",
       "        text-align: right;\n",
       "    }\n",
       "</style>\n",
       "<table border=\"1\" class=\"dataframe\">\n",
       "  <thead>\n",
       "    <tr style=\"text-align: right;\">\n",
       "      <th></th>\n",
       "      <th>Name</th>\n",
       "      <th>Trips Completed</th>\n",
       "      <th>Accept Rate</th>\n",
       "      <th>Supply Hours</th>\n",
       "      <th>Rating</th>\n",
       "    </tr>\n",
       "  </thead>\n",
       "  <tbody>\n",
       "    <tr>\n",
       "      <th>1</th>\n",
       "      <td>Abraham</td>\n",
       "      <td>12</td>\n",
       "      <td>83.0</td>\n",
       "      <td>5</td>\n",
       "      <td>4.7</td>\n",
       "    </tr>\n",
       "    <tr>\n",
       "      <th>4</th>\n",
       "      <td>Alec</td>\n",
       "      <td>21</td>\n",
       "      <td>76.0</td>\n",
       "      <td>11</td>\n",
       "      <td>5.0</td>\n",
       "    </tr>\n",
       "    <tr>\n",
       "      <th>8</th>\n",
       "      <td>Augusta</td>\n",
       "      <td>19</td>\n",
       "      <td>84.0</td>\n",
       "      <td>11</td>\n",
       "      <td>4.7</td>\n",
       "    </tr>\n",
       "    <tr>\n",
       "      <th>10</th>\n",
       "      <td>Buffy</td>\n",
       "      <td>13</td>\n",
       "      <td>54.0</td>\n",
       "      <td>6</td>\n",
       "      <td>5.0</td>\n",
       "    </tr>\n",
       "    <tr>\n",
       "      <th>11</th>\n",
       "      <td>Byron</td>\n",
       "      <td>15</td>\n",
       "      <td>100.0</td>\n",
       "      <td>10</td>\n",
       "      <td>4.9</td>\n",
       "    </tr>\n",
       "  </tbody>\n",
       "</table>\n",
       "</div>"
      ],
      "text/plain": [
       "       Name  Trips Completed  Accept Rate  Supply Hours  Rating\n",
       "1   Abraham               12         83.0             5     4.7\n",
       "4      Alec               21         76.0            11     5.0\n",
       "8   Augusta               19         84.0            11     4.7\n",
       "10    Buffy               13         54.0             6     5.0\n",
       "11    Byron               15        100.0            10     4.9"
      ]
     },
     "execution_count": 126,
     "metadata": {},
     "output_type": "execute_result"
    }
   ],
   "source": [
    "option2.head()"
   ]
  },
  {
   "cell_type": "code",
   "execution_count": 127,
   "id": "11b9d61d",
   "metadata": {},
   "outputs": [
    {
     "name": "stdout",
     "output_type": "stream",
     "text": [
      "Total Cost for Scenario 2 : $2976\n"
     ]
    }
   ],
   "source": [
    "option2_cost = 4 * sum(option2['Trips Completed'])\n",
    "print(\"Total Cost for Scenario 2 : $\" + str(option2_cost))"
   ]
  },
  {
   "cell_type": "markdown",
   "id": "44d8e7b9",
   "metadata": {},
   "source": [
    "***3. How many drivers would qualify for a bonus under Option 1 but not under Option 2?***"
   ]
  },
  {
   "cell_type": "code",
   "execution_count": 128,
   "id": "82b7fdb7",
   "metadata": {},
   "outputs": [],
   "source": [
    "joined = option1.merge(option2, on = 'Name', how = 'left', indicator= True)"
   ]
  },
  {
   "cell_type": "code",
   "execution_count": 129,
   "id": "0bfdcfef",
   "metadata": {},
   "outputs": [
    {
     "data": {
      "text/html": [
       "<div>\n",
       "<style scoped>\n",
       "    .dataframe tbody tr th:only-of-type {\n",
       "        vertical-align: middle;\n",
       "    }\n",
       "\n",
       "    .dataframe tbody tr th {\n",
       "        vertical-align: top;\n",
       "    }\n",
       "\n",
       "    .dataframe thead th {\n",
       "        text-align: right;\n",
       "    }\n",
       "</style>\n",
       "<table border=\"1\" class=\"dataframe\">\n",
       "  <thead>\n",
       "    <tr style=\"text-align: right;\">\n",
       "      <th></th>\n",
       "      <th>Name</th>\n",
       "      <th>Trips Completed_x</th>\n",
       "      <th>Accept Rate_x</th>\n",
       "      <th>Supply Hours_x</th>\n",
       "      <th>Rating_x</th>\n",
       "      <th>Trips Completed_y</th>\n",
       "      <th>Accept Rate_y</th>\n",
       "      <th>Supply Hours_y</th>\n",
       "      <th>Rating_y</th>\n",
       "      <th>_merge</th>\n",
       "    </tr>\n",
       "  </thead>\n",
       "  <tbody>\n",
       "    <tr>\n",
       "      <th>0</th>\n",
       "      <td>Byron</td>\n",
       "      <td>15</td>\n",
       "      <td>100.0</td>\n",
       "      <td>10</td>\n",
       "      <td>4.9</td>\n",
       "      <td>15.0</td>\n",
       "      <td>100.0</td>\n",
       "      <td>10.0</td>\n",
       "      <td>4.9</td>\n",
       "      <td>both</td>\n",
       "    </tr>\n",
       "    <tr>\n",
       "      <th>1</th>\n",
       "      <td>Carlota</td>\n",
       "      <td>14</td>\n",
       "      <td>100.0</td>\n",
       "      <td>8</td>\n",
       "      <td>5.0</td>\n",
       "      <td>14.0</td>\n",
       "      <td>100.0</td>\n",
       "      <td>8.0</td>\n",
       "      <td>5.0</td>\n",
       "      <td>both</td>\n",
       "    </tr>\n",
       "    <tr>\n",
       "      <th>2</th>\n",
       "      <td>Dannette</td>\n",
       "      <td>14</td>\n",
       "      <td>100.0</td>\n",
       "      <td>9</td>\n",
       "      <td>4.9</td>\n",
       "      <td>14.0</td>\n",
       "      <td>100.0</td>\n",
       "      <td>9.0</td>\n",
       "      <td>4.9</td>\n",
       "      <td>both</td>\n",
       "    </tr>\n",
       "    <tr>\n",
       "      <th>3</th>\n",
       "      <td>Demetrius</td>\n",
       "      <td>14</td>\n",
       "      <td>100.0</td>\n",
       "      <td>9</td>\n",
       "      <td>5.0</td>\n",
       "      <td>14.0</td>\n",
       "      <td>100.0</td>\n",
       "      <td>9.0</td>\n",
       "      <td>5.0</td>\n",
       "      <td>both</td>\n",
       "    </tr>\n",
       "    <tr>\n",
       "      <th>4</th>\n",
       "      <td>Dimple</td>\n",
       "      <td>15</td>\n",
       "      <td>100.0</td>\n",
       "      <td>10</td>\n",
       "      <td>4.9</td>\n",
       "      <td>15.0</td>\n",
       "      <td>100.0</td>\n",
       "      <td>10.0</td>\n",
       "      <td>4.9</td>\n",
       "      <td>both</td>\n",
       "    </tr>\n",
       "  </tbody>\n",
       "</table>\n",
       "</div>"
      ],
      "text/plain": [
       "        Name  Trips Completed_x  Accept Rate_x  Supply Hours_x  Rating_x  \\\n",
       "0      Byron                 15          100.0              10       4.9   \n",
       "1    Carlota                 14          100.0               8       5.0   \n",
       "2   Dannette                 14          100.0               9       4.9   \n",
       "3  Demetrius                 14          100.0               9       5.0   \n",
       "4     Dimple                 15          100.0              10       4.9   \n",
       "\n",
       "   Trips Completed_y  Accept Rate_y  Supply Hours_y  Rating_y _merge  \n",
       "0               15.0          100.0            10.0       4.9   both  \n",
       "1               14.0          100.0             8.0       5.0   both  \n",
       "2               14.0          100.0             9.0       4.9   both  \n",
       "3               14.0          100.0             9.0       5.0   both  \n",
       "4               15.0          100.0            10.0       4.9   both  "
      ]
     },
     "execution_count": 129,
     "metadata": {},
     "output_type": "execute_result"
    }
   ],
   "source": [
    "joined.head()"
   ]
  },
  {
   "cell_type": "code",
   "execution_count": 130,
   "id": "1edd44ed",
   "metadata": {},
   "outputs": [
    {
     "data": {
      "text/plain": [
       "both          19\n",
       "left_only      2\n",
       "right_only     0\n",
       "Name: _merge, dtype: int64"
      ]
     },
     "execution_count": 130,
     "metadata": {},
     "output_type": "execute_result"
    }
   ],
   "source": [
    "joined['_merge'].value_counts()"
   ]
  },
  {
   "cell_type": "code",
   "execution_count": 131,
   "id": "75fe743d",
   "metadata": {},
   "outputs": [
    {
     "data": {
      "text/html": [
       "<div>\n",
       "<style scoped>\n",
       "    .dataframe tbody tr th:only-of-type {\n",
       "        vertical-align: middle;\n",
       "    }\n",
       "\n",
       "    .dataframe tbody tr th {\n",
       "        vertical-align: top;\n",
       "    }\n",
       "\n",
       "    .dataframe thead th {\n",
       "        text-align: right;\n",
       "    }\n",
       "</style>\n",
       "<table border=\"1\" class=\"dataframe\">\n",
       "  <thead>\n",
       "    <tr style=\"text-align: right;\">\n",
       "      <th></th>\n",
       "      <th>Name</th>\n",
       "      <th>Trips Completed_x</th>\n",
       "      <th>Accept Rate_x</th>\n",
       "      <th>Supply Hours_x</th>\n",
       "      <th>Rating_x</th>\n",
       "      <th>Trips Completed_y</th>\n",
       "      <th>Accept Rate_y</th>\n",
       "      <th>Supply Hours_y</th>\n",
       "      <th>Rating_y</th>\n",
       "      <th>_merge</th>\n",
       "    </tr>\n",
       "  </thead>\n",
       "  <tbody>\n",
       "    <tr>\n",
       "      <th>16</th>\n",
       "      <td>Oren</td>\n",
       "      <td>11</td>\n",
       "      <td>91.0</td>\n",
       "      <td>9</td>\n",
       "      <td>4.8</td>\n",
       "      <td>NaN</td>\n",
       "      <td>NaN</td>\n",
       "      <td>NaN</td>\n",
       "      <td>NaN</td>\n",
       "      <td>left_only</td>\n",
       "    </tr>\n",
       "    <tr>\n",
       "      <th>17</th>\n",
       "      <td>Phyllis</td>\n",
       "      <td>10</td>\n",
       "      <td>90.0</td>\n",
       "      <td>8</td>\n",
       "      <td>4.8</td>\n",
       "      <td>NaN</td>\n",
       "      <td>NaN</td>\n",
       "      <td>NaN</td>\n",
       "      <td>NaN</td>\n",
       "      <td>left_only</td>\n",
       "    </tr>\n",
       "  </tbody>\n",
       "</table>\n",
       "</div>"
      ],
      "text/plain": [
       "       Name  Trips Completed_x  Accept Rate_x  Supply Hours_x  Rating_x  \\\n",
       "16     Oren                 11           91.0               9       4.8   \n",
       "17  Phyllis                 10           90.0               8       4.8   \n",
       "\n",
       "    Trips Completed_y  Accept Rate_y  Supply Hours_y  Rating_y     _merge  \n",
       "16                NaN            NaN             NaN       NaN  left_only  \n",
       "17                NaN            NaN             NaN       NaN  left_only  "
      ]
     },
     "execution_count": 131,
     "metadata": {},
     "output_type": "execute_result"
    }
   ],
   "source": [
    "joined[joined['_merge'] == 'left_only']"
   ]
  },
  {
   "cell_type": "markdown",
   "id": "4aaa75be",
   "metadata": {},
   "source": [
    "***4. What percentages of drivers online completed less than 10 trips, had an acceptance rate of less than \\\\90%, and had a rating of 4.7 or higher?***"
   ]
  },
  {
   "cell_type": "code",
   "execution_count": 136,
   "id": "36ce01a4",
   "metadata": {},
   "outputs": [],
   "source": [
    "option3 = df[(df['Trips Completed'] < 10) &\n",
    "               (df['Accept Rate'] < 90) &\n",
    "               (df['Rating'] >= 4.7)\n",
    "              ]"
   ]
  },
  {
   "cell_type": "code",
   "execution_count": 137,
   "id": "b660d9ae",
   "metadata": {},
   "outputs": [],
   "source": [
    "percent_drivers = (len(option3)/len(df))*100"
   ]
  },
  {
   "cell_type": "code",
   "execution_count": 138,
   "id": "021217ce",
   "metadata": {},
   "outputs": [
    {
     "name": "stdout",
     "output_type": "stream",
     "text": [
      "10.92436974789916%\n"
     ]
    }
   ],
   "source": [
    "print(str(percent_drivers) +'%')"
   ]
  },
  {
   "cell_type": "markdown",
   "id": "015cc7ef",
   "metadata": {},
   "source": []
  },
  {
   "cell_type": "markdown",
   "id": "44b3411e",
   "metadata": {},
   "source": [
    "***Scenario 2:*** \n",
    "\n",
    "A taxi driver currently generates \\\\$200 per day in fares (before expenses), works six days a week, takes three weeks off, and has the following expenses:\n",
    "<br>\n",
    "Gas - \\\\$200 per week <br>\n",
    "Insurance - \\\\$400 per month <br>\n",
    "Vehicle rent (by the week) - \\\\$500 <br>\n",
    "The driver doesn't pay gas and rent expenses on off weeks. <br> <br>\n",
    "\n",
    "Now, let's assume that the same driver would buy a Town Car and partner with Uber. If he does, his gas expenses would go up by 5%, his insurance expense would decrease by 20%, and he would no longer be renting a vehicle. However, he would need to buy a car. The driver would still take three weeks off per year. <br>\n",
    "\n",
    "Given Scenario 2, provide answers to the questions below: <br>\n",
    "\n",
    "5. How much money (after expenses) does the taxi driver make per year without partnering with Uber?\n",
    "6. You are convincing the same driver above to buy a Town Car and partner with Uber. Assuming the new car is 40.000 USD, how much would the driver's gross fares need to increase per week to fully pay for the car in year 1 and maintain the same yearly profit margin as before?\n"
   ]
  },
  {
   "cell_type": "code",
   "execution_count": 143,
   "id": "dadfd159",
   "metadata": {},
   "outputs": [],
   "source": [
    "#Defining the variables\n",
    "revenue = 200\n",
    "gas = 200\n",
    "insurance = 400\n",
    "vehicle_rent = 500"
   ]
  },
  {
   "cell_type": "markdown",
   "id": "9827e242",
   "metadata": {},
   "source": [
    "***5. How much money (after expenses) does the taxi driver make per year without partnering with Uber?***"
   ]
  },
  {
   "cell_type": "code",
   "execution_count": 171,
   "id": "75bf0d57",
   "metadata": {},
   "outputs": [],
   "source": [
    "# Without Partnering with Uber\n",
    "# Assuming the driver works for 49 weeks per year\n",
    "\n",
    "gas_wou = gas * 49\n",
    "insurance_wou = insurance*12\n",
    "vehicle_rent_wou = vehicle_rent * 49\n",
    "income_earned_wou = 200 * 49 * 6\n",
    "\n",
    "profit_margin = income_earned_wou - gas_wou - vehicle_rent_wou - insurance_wou"
   ]
  },
  {
   "cell_type": "code",
   "execution_count": 172,
   "id": "9179a02a",
   "metadata": {},
   "outputs": [
    {
     "name": "stdout",
     "output_type": "stream",
     "text": [
      "Revenue earnings before Uber: $58800\n"
     ]
    }
   ],
   "source": [
    "print('Revenue earnings before Uber: $' + str(income_earned_wou))"
   ]
  },
  {
   "cell_type": "code",
   "execution_count": 173,
   "id": "f4349558",
   "metadata": {},
   "outputs": [
    {
     "name": "stdout",
     "output_type": "stream",
     "text": [
      "Profit Margin without partnering with Uber: $19700\n"
     ]
    }
   ],
   "source": [
    "print('Profit Margin without partnering with Uber: $' + str(profit_margin))"
   ]
  },
  {
   "cell_type": "markdown",
   "id": "d2b8896d",
   "metadata": {},
   "source": [
    "***6. You are convincing the same driver above to buy a Town Car and partner with Uber. Assuming the new car is 40.000 USD, how much would the driver's gross fares need to increase per week to fully pay for the car in year 1 and maintain the same yearly profit margin as before?***"
   ]
  },
  {
   "cell_type": "code",
   "execution_count": 176,
   "id": "36c4c556",
   "metadata": {},
   "outputs": [],
   "source": [
    "#Recalculating Gas, Insurance, Vehicle Rental etc to when partnering with Uber\n",
    "#New Profit Margin is calculated assuming the Income earned is the same as older income \n",
    "gas_wu = gas_wou + gas_wou*(0.05)\n",
    "insurance_wu = insurance_wou - insurance_wou*(0.20)\n",
    "new_car = 40000"
   ]
  },
  {
   "cell_type": "code",
   "execution_count": 177,
   "id": "388658c7",
   "metadata": {},
   "outputs": [],
   "source": [
    "expenses_wu = 40000 + gas_wu + insurance_wu"
   ]
  },
  {
   "cell_type": "code",
   "execution_count": 178,
   "id": "c7784e7e",
   "metadata": {},
   "outputs": [
    {
     "name": "stdout",
     "output_type": "stream",
     "text": [
      "New Expenses: $54130.0\n"
     ]
    }
   ],
   "source": [
    "print('New Expenses: $'+ str(expenses_wu))"
   ]
  },
  {
   "cell_type": "code",
   "execution_count": 179,
   "id": "3d4d48ae",
   "metadata": {},
   "outputs": [
    {
     "name": "stdout",
     "output_type": "stream",
     "text": [
      "New Profit Margin: $4670.0\n"
     ]
    }
   ],
   "source": [
    "print('New Profit Margin: $' + str(income_earned_wou - expenses_wu ))"
   ]
  },
  {
   "cell_type": "code",
   "execution_count": 182,
   "id": "8e92e9cf",
   "metadata": {},
   "outputs": [
    {
     "name": "stdout",
     "output_type": "stream",
     "text": [
      "Gross Earnings per week need to increase by: $306.734693877551\n"
     ]
    }
   ],
   "source": [
    "print('Gross Earnings per week need to increase by: $'+ str((profit_margin - (income_earned_wou - expenses_wu))/49))"
   ]
  }
 ],
 "metadata": {
  "kernelspec": {
   "display_name": "Python 3 (ipykernel)",
   "language": "python",
   "name": "python3"
  },
  "language_info": {
   "codemirror_mode": {
    "name": "ipython",
    "version": 3
   },
   "file_extension": ".py",
   "mimetype": "text/x-python",
   "name": "python",
   "nbconvert_exporter": "python",
   "pygments_lexer": "ipython3",
   "version": "3.9.13"
  }
 },
 "nbformat": 4,
 "nbformat_minor": 5
}
